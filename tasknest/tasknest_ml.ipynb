{
 "cells": [
  {
   "cell_type": "code",
   "execution_count": 1,
   "id": "5db0f4a1-f1ae-4f8f-a220-ca20fb97cc64",
   "metadata": {},
   "outputs": [
    {
     "name": "stdout",
     "output_type": "stream",
     "text": [
      "Requirement already satisfied: pandas in c:\\users\\rohit\\anaconda3\\lib\\site-packages (2.2.3)\n",
      "Requirement already satisfied: scikit-learn in c:\\users\\rohit\\anaconda3\\lib\\site-packages (1.6.1)\n",
      "Requirement already satisfied: numpy in c:\\users\\rohit\\anaconda3\\lib\\site-packages (2.1.3)\n",
      "Requirement already satisfied: joblib in c:\\users\\rohit\\anaconda3\\lib\\site-packages (1.4.2)\n",
      "Requirement already satisfied: python-dateutil>=2.8.2 in c:\\users\\rohit\\anaconda3\\lib\\site-packages (from pandas) (2.9.0.post0)\n",
      "Requirement already satisfied: pytz>=2020.1 in c:\\users\\rohit\\anaconda3\\lib\\site-packages (from pandas) (2024.1)\n",
      "Requirement already satisfied: tzdata>=2022.7 in c:\\users\\rohit\\anaconda3\\lib\\site-packages (from pandas) (2025.2)\n",
      "Requirement already satisfied: scipy>=1.6.0 in c:\\users\\rohit\\anaconda3\\lib\\site-packages (from scikit-learn) (1.15.3)\n",
      "Requirement already satisfied: threadpoolctl>=3.1.0 in c:\\users\\rohit\\anaconda3\\lib\\site-packages (from scikit-learn) (3.5.0)\n",
      "Requirement already satisfied: six>=1.5 in c:\\users\\rohit\\anaconda3\\lib\\site-packages (from python-dateutil>=2.8.2->pandas) (1.17.0)\n"
     ]
    }
   ],
   "source": [
    "# Run this cell only once if needed\n",
    "!pip install pandas scikit-learn numpy joblib"
   ]
  },
  {
   "cell_type": "code",
   "execution_count": 2,
   "id": "d76eb0e8-dc0d-4677-a563-5392300bb258",
   "metadata": {},
   "outputs": [
    {
     "name": "stdout",
     "output_type": "stream",
     "text": [
      "                    text priority    due_date  category created_date  \\\n",
      "0  Submit project report     High  2025-07-20      Work   2025-07-15   \n",
      "1          Buy groceries      Low  2025-07-22  Personal   2025-07-20   \n",
      "2  Finalize presentation   Medium  2025-07-25      Work   2025-07-21   \n",
      "3   Pay electricity bill     High  2025-07-18     Bills   2025-07-15   \n",
      "\n",
      "  completed_date  \n",
      "0     2025-07-19  \n",
      "1     2025-07-21  \n",
      "2     2025-07-26  \n",
      "3     2025-07-19  \n"
     ]
    }
   ],
   "source": [
    "import pandas as pd\n",
    "\n",
    "df = pd.read_csv(\"tasks_dataset.csv\")\n",
    "print(df.head())"
   ]
  },
  {
   "cell_type": "code",
   "execution_count": 3,
   "id": "a1a3fb89-16ff-4b97-9611-1396da5e6e9b",
   "metadata": {},
   "outputs": [],
   "source": [
    "import os\n",
    "os.makedirs(\"ml\", exist_ok=True)"
   ]
  },
  {
   "cell_type": "code",
   "execution_count": 11,
   "id": "8e7f9548-8f02-46ee-91a3-da6685670319",
   "metadata": {},
   "outputs": [],
   "source": [
    "# tasknest_ml.ipynb\n",
    "\n",
    "# 0. Setup: Install required libraries if needed\n",
    "# Uncomment and run the below if missing\n",
    "# !pip install pandas scikit-learn numpy joblib"
   ]
  },
  {
   "cell_type": "code",
   "execution_count": 12,
   "id": "0bcafc60-7ef3-49a1-a867-8f37bfd13648",
   "metadata": {},
   "outputs": [],
   "source": [
    "import pandas as pd\n",
    "from sklearn.feature_extraction.text import TfidfVectorizer\n",
    "from sklearn.linear_model import LogisticRegression, LinearRegression\n",
    "from sklearn.model_selection import train_test_split\n",
    "from sklearn.metrics import accuracy_score, mean_absolute_error\n",
    "import numpy as np\n",
    "import joblib\n",
    "from datetime import timedelta"
   ]
  },
  {
   "cell_type": "code",
   "execution_count": 13,
   "id": "a62052c1-919a-465e-b064-183ce4eb5204",
   "metadata": {},
   "outputs": [],
   "source": [
    "# 1. Load Task Dataset (replace with your data export from TaskNest)\n"
   ]
  },
  {
   "cell_type": "code",
   "execution_count": 14,
   "id": "649d2b70-5679-4c0f-bb9e-61d06e5f9991",
   "metadata": {},
   "outputs": [],
   "source": [
    "df = pd.read_csv('tasks_dataset.csv')"
   ]
  },
  {
   "cell_type": "code",
   "execution_count": 15,
   "id": "c4062f03-c74a-4101-a0ac-25fd8f189c81",
   "metadata": {},
   "outputs": [],
   "source": [
    "# expect fields: text, priority, due_date (YYYY-MM-DD), category, created_date, completed_date"
   ]
  },
  {
   "cell_type": "code",
   "execution_count": 16,
   "id": "b1860dca-9a31-45a7-be16-dd15b947ec36",
   "metadata": {},
   "outputs": [],
   "source": [
    "# Simple engineering"
   ]
  },
  {
   "cell_type": "code",
   "execution_count": 17,
   "id": "f33d91d3-77de-4812-a1b5-e8c6312758c7",
   "metadata": {},
   "outputs": [],
   "source": [
    "df['text'] = df['text'].astype(str)\n",
    "df['priority'] = df['priority'].fillna('Low')"
   ]
  },
  {
   "cell_type": "code",
   "execution_count": 18,
   "id": "a7fda27e-46cc-4a0d-b5bf-2e2f8c689bf3",
   "metadata": {},
   "outputs": [],
   "source": [
    "# 2. Priority Prediction (classification)"
   ]
  },
  {
   "cell_type": "code",
   "execution_count": 19,
   "id": "49c4aace-eb13-49ee-9aec-19e5af3bd9ba",
   "metadata": {},
   "outputs": [],
   "source": [
    "vectorizer_prio = TfidfVectorizer(max_features=1000, ngram_range=(1,2))\n",
    "X_prio = vectorizer_prio.fit_transform(df['text'])\n",
    "y_prio = df['priority']"
   ]
  },
  {
   "cell_type": "code",
   "execution_count": 20,
   "id": "8d2ba1d1-1db8-4efd-8897-5b0cd17cd11e",
   "metadata": {},
   "outputs": [
    {
     "ename": "_IncompleteInputError",
     "evalue": "incomplete input (3469349068.py, line 5)",
     "output_type": "error",
     "traceback": [
      "\u001b[1;36m  Cell \u001b[1;32mIn[20], line 5\u001b[1;36m\u001b[0m\n\u001b[1;33m    print(\"Priority Accuracy:\", accuracy_score(y_test, y_pred)\u001b[0m\n\u001b[1;37m                                                              ^\u001b[0m\n\u001b[1;31m_IncompleteInputError\u001b[0m\u001b[1;31m:\u001b[0m incomplete input\n"
     ]
    }
   ],
   "source": [
    "X_train, X_test, y_train, y_test = train_test_split(X_prio, y_prio, test_size=0.2, random_state=42)\n",
    "clf_prio = LogisticRegression(max_iter=200)\n",
    "clf_prio.fit(X_train, y_train)\n",
    "y_pred = clf_prio.predict(X_test)\n",
    "print(\"Priority Accuracy:\", accuracy_score(y_test, y_pred)"
   ]
  },
  {
   "cell_type": "code",
   "execution_count": 21,
   "id": "79e27796-f6c4-4379-be74-5ef6460cc4aa",
   "metadata": {},
   "outputs": [
    {
     "name": "stdout",
     "output_type": "stream",
     "text": [
      "Priority Accuracy: 0.0\n"
     ]
    }
   ],
   "source": [
    "X_train, X_test, y_train, y_test = train_test_split(X_prio, y_prio, test_size=0.2, random_state=42)\n",
    "clf_prio = LogisticRegression(max_iter=200)\n",
    "clf_prio.fit(X_train, y_train)\n",
    "y_pred = clf_prio.predict(X_test)\n",
    "print(\"Priority Accuracy:\", accuracy_score(y_test, y_pred))"
   ]
  },
  {
   "cell_type": "code",
   "execution_count": 22,
   "id": "9e83b229-d121-4e44-b681-7e4e0dc8e04a",
   "metadata": {},
   "outputs": [
    {
     "data": {
      "text/plain": [
       "['ml/model_priority.pkl']"
      ]
     },
     "execution_count": 22,
     "metadata": {},
     "output_type": "execute_result"
    }
   ],
   "source": [
    "joblib.dump(vectorizer_prio, 'ml/vectorizer_priority.pkl')\n",
    "joblib.dump(clf_prio, 'ml/model_priority.pkl')"
   ]
  },
  {
   "cell_type": "code",
   "execution_count": 23,
   "id": "4076c0c6-d69d-4bec-90fe-ee57dc3884c8",
   "metadata": {},
   "outputs": [],
   "source": [
    "# 3. Deadline Estimation (regression)"
   ]
  },
  {
   "cell_type": "code",
   "execution_count": 24,
   "id": "c7cf8583-c131-4f15-9847-9e85bad8923f",
   "metadata": {},
   "outputs": [],
   "source": [
    "df_d = df.dropna(subset=['due_date'])\n",
    "df_d['due_days'] = (pd.to_datetime(df_d['due_date']) - pd.to_datetime(df_d['created_date'])).dt.days\n",
    "X_dead = vectorizer_prio.transform(df_d['text'])\n",
    "y_dead = df_d['due_days']"
   ]
  },
  {
   "cell_type": "code",
   "execution_count": 25,
   "id": "734209f6-0f4a-4330-b059-e64f10b964fe",
   "metadata": {},
   "outputs": [
    {
     "name": "stdout",
     "output_type": "stream",
     "text": [
      "Deadline MAE (days): 2.0\n"
     ]
    }
   ],
   "source": [
    "X_train, X_test, y_train_d, y_test_d = train_test_split(X_dead, y_dead, test_size=0.2, random_state=42)\n",
    "reg_dead = LinearRegression()\n",
    "reg_dead.fit(X_train, y_train_d)\n",
    "y_pred_d = reg_dead.predict(X_test)\n",
    "print(\"Deadline MAE (days):\", mean_absolute_error(y_test_d, y_pred_d))"
   ]
  },
  {
   "cell_type": "code",
   "execution_count": 26,
   "id": "df13e12d-4e15-4d3d-9379-4ed2735307e7",
   "metadata": {},
   "outputs": [
    {
     "data": {
      "text/plain": [
       "['ml/model_deadline.pkl']"
      ]
     },
     "execution_count": 26,
     "metadata": {},
     "output_type": "execute_result"
    }
   ],
   "source": [
    "joblib.dump(reg_dead, 'ml/model_deadline.pkl')"
   ]
  },
  {
   "cell_type": "code",
   "execution_count": 27,
   "id": "5d99964e-b6fb-4e58-933a-0be3810ab68e",
   "metadata": {},
   "outputs": [],
   "source": [
    "# 4. Overdue Risk Prediction (binary classification)"
   ]
  },
  {
   "cell_type": "code",
   "execution_count": 28,
   "id": "3d343556-f59a-4616-84e3-a85676723369",
   "metadata": {},
   "outputs": [],
   "source": [
    "df_o = df.dropna(subset=['due_date','completed_date'])\n",
    "df_o['overdue'] = (\n",
    "    pd.to_datetime(df_o['completed_date']) > pd.to_datetime(df_o['due_date'])\n",
    ").astype(int)\n",
    "X_over = vectorizer_prio.transform(df_o['text'])\n",
    "y_over = df_o['overdue']"
   ]
  },
  {
   "cell_type": "code",
   "execution_count": 29,
   "id": "15cf6b70-2b45-45e3-8866-08b1c9f38768",
   "metadata": {},
   "outputs": [
    {
     "name": "stdout",
     "output_type": "stream",
     "text": [
      "Overdue Risk Accuracy: 0.0\n"
     ]
    }
   ],
   "source": [
    "X_train, X_test, y_train_o, y_test_o = train_test_split(X_over, y_over, test_size=0.2, random_state=42)\n",
    "clf_over = LogisticRegression(max_iter=200)\n",
    "clf_over.fit(X_train, y_train_o)\n",
    "print(\"Overdue Risk Accuracy:\", accuracy_score(y_test_o, clf_over.predict(X_test)))"
   ]
  },
  {
   "cell_type": "code",
   "execution_count": 30,
   "id": "5625944d-5113-4ea7-8d04-0370aa2cceae",
   "metadata": {},
   "outputs": [
    {
     "data": {
      "text/plain": [
       "['ml/model_overdue.pkl']"
      ]
     },
     "execution_count": 30,
     "metadata": {},
     "output_type": "execute_result"
    }
   ],
   "source": [
    "joblib.dump(clf_over, 'ml/model_overdue.pkl')"
   ]
  },
  {
   "cell_type": "code",
   "execution_count": 31,
   "id": "b12350e0-8c0d-453e-8044-1e2b642defc2",
   "metadata": {},
   "outputs": [],
   "source": [
    "# 5. Smart Categorization"
   ]
  },
  {
   "cell_type": "code",
   "execution_count": 32,
   "id": "234d5f45-3988-4e7b-b2e1-99acb6ba0a0f",
   "metadata": {},
   "outputs": [],
   "source": [
    "from sklearn.preprocessing import LabelEncoder"
   ]
  },
  {
   "cell_type": "code",
   "execution_count": 33,
   "id": "c03ef617-9d08-4eb8-8313-65b191a2d805",
   "metadata": {},
   "outputs": [],
   "source": [
    "le_cat = LabelEncoder()\n",
    "y_cat = le_cat.fit_transform(df['category'].astype(str))\n",
    "X_cat = vectorizer_prio.transform(df['text'])\n"
   ]
  },
  {
   "cell_type": "code",
   "execution_count": 34,
   "id": "a076821c-52a1-4f2f-98ec-a0da94122866",
   "metadata": {},
   "outputs": [
    {
     "name": "stdout",
     "output_type": "stream",
     "text": [
      "Category Prediction Accuracy: 0.0\n"
     ]
    }
   ],
   "source": [
    "X_train, X_test, y_train_c, y_test_c = train_test_split(X_cat, y_cat, test_size=0.2, random_state=42)\n",
    "clf_cat = LogisticRegression(max_iter=200)\n",
    "clf_cat.fit(X_train, y_train_c)\n",
    "print(\"Category Prediction Accuracy:\", accuracy_score(y_test_c, clf_cat.predict(X_test)))"
   ]
  },
  {
   "cell_type": "code",
   "execution_count": 35,
   "id": "50a153e0-7b25-4459-b315-74487bfd1993",
   "metadata": {},
   "outputs": [
    {
     "data": {
      "text/plain": [
       "['ml/model_category.pkl']"
      ]
     },
     "execution_count": 35,
     "metadata": {},
     "output_type": "execute_result"
    }
   ],
   "source": [
    "joblib.dump(le_cat, 'ml/label_encoder_cat.pkl')\n",
    "joblib.dump(clf_cat, 'ml/model_category.pkl')"
   ]
  },
  {
   "cell_type": "code",
   "execution_count": null,
   "id": "1cbc3564-d098-4eb3-8d51-5a3307284899",
   "metadata": {},
   "outputs": [],
   "source": []
  }
 ],
 "metadata": {
  "kernelspec": {
   "display_name": "Python [conda env:base] *",
   "language": "python",
   "name": "conda-base-py"
  },
  "language_info": {
   "codemirror_mode": {
    "name": "ipython",
    "version": 3
   },
   "file_extension": ".py",
   "mimetype": "text/x-python",
   "name": "python",
   "nbconvert_exporter": "python",
   "pygments_lexer": "ipython3",
   "version": "3.13.5"
  }
 },
 "nbformat": 4,
 "nbformat_minor": 5
}
